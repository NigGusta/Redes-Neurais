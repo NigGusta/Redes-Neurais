{
 "cells": [
  {
   "cell_type": "markdown",
   "metadata": {},
   "source": [
    "# Exercício - Redes Neurais\n",
    "\n",
    "### Gustavo Henrique da Silva Costa Araujo\n",
    "### Matrícula: 20210155800"
   ]
  },
  {
   "cell_type": "markdown",
   "metadata": {},
   "source": [
    "O objetivo deste exercício é treinar e avaliar uma rede neural para classificar um\n",
    "conjunto de dados sobre notícias de acordo com suas categorias.\n",
    "\n",
    "A rede neural deve ser avaliada através do cálculo da acurácia (quantidade de acertos\n",
    "dividido pela quantidade total de testes)."
   ]
  },
  {
   "cell_type": "markdown",
   "metadata": {},
   "source": [
    "importando bibliotecas necessárias"
   ]
  },
  {
   "cell_type": "code",
   "execution_count": 3,
   "metadata": {},
   "outputs": [],
   "source": [
    "import datasets\n",
    "from datasets import load_dataset, Dataset\n",
    "import pandas as pd\n",
    "import re\n",
    "import nltk\n",
    "from nltk.tokenize import word_tokenize\n",
    "from sklearn.feature_extraction.text import CountVectorizer\n",
    "from sklearn.feature_extraction.text import TfidfVectorizer"
   ]
  },
  {
   "cell_type": "code",
   "execution_count": 4,
   "metadata": {},
   "outputs": [],
   "source": [
    "dataset = datasets.load_dataset(\"okite97/news-data\")"
   ]
  },
  {
   "cell_type": "code",
   "execution_count": 5,
   "metadata": {},
   "outputs": [
    {
     "data": {
      "text/plain": [
       "DatasetDict({\n",
       "    train: Dataset({\n",
       "        features: ['Title', 'Excerpt', 'Category'],\n",
       "        num_rows: 4686\n",
       "    })\n",
       "    test: Dataset({\n",
       "        features: ['Title', 'Excerpt', 'Category'],\n",
       "        num_rows: 828\n",
       "    })\n",
       "})"
      ]
     },
     "execution_count": 5,
     "metadata": {},
     "output_type": "execute_result"
    }
   ],
   "source": [
    "dataset"
   ]
  },
  {
   "cell_type": "markdown",
   "metadata": {},
   "source": [
    "separando dataset em treino e teste\n"
   ]
  },
  {
   "cell_type": "code",
   "execution_count": 6,
   "metadata": {},
   "outputs": [],
   "source": [
    "train_data = dataset['train']\n",
    "test_data = dataset['test']"
   ]
  },
  {
   "cell_type": "code",
   "execution_count": 11,
   "metadata": {},
   "outputs": [
    {
     "data": {
      "text/plain": [
       "'Ekiti Has Attracted Over $100m Investment in Three Years, Governor Fayemi Says'"
      ]
     },
     "execution_count": 11,
     "metadata": {},
     "output_type": "execute_result"
    }
   ],
   "source": [
    "train_data['Title'][100]\n"
   ]
  },
  {
   "cell_type": "markdown",
   "metadata": {},
   "source": [
    "criando 3 listas vazias para guardar minhas colunas tratadas e usa-las dentro da função "
   ]
  },
  {
   "cell_type": "code",
   "execution_count": 12,
   "metadata": {},
   "outputs": [],
   "source": [
    "title_limp = [] \n",
    "categ_limp = []\n",
    "exc_limp = []\n",
    "\n",
    "\n",
    "\n",
    "def limpar_texto(dados, dic_limp):\n",
    "    for index in dados:\n",
    "        if index is None:\n",
    "            texto_limpo = \"\"\n",
    "        else:\n",
    "            texto_limpo = index.lower()\n",
    "            texto_limpo = re.sub(r'[^\\w\\s]', '', texto_limpo)  # Remova caracteres especiais e pontuações\n",
    "        dic_limp.append(texto_limpo)  \n",
    "    "
   ]
  },
  {
   "cell_type": "code",
   "execution_count": 13,
   "metadata": {},
   "outputs": [],
   "source": [
    "limpar_texto(train_data['Title'], title_limp)\n",
    "limpar_texto(train_data['Excerpt'], exc_limp)\n",
    "limpar_texto(train_data['Category'], categ_limp)"
   ]
  },
  {
   "cell_type": "markdown",
   "metadata": {},
   "source": [
    "criando minha função para tokenizar palavras e listas"
   ]
  },
  {
   "cell_type": "code",
   "execution_count": 19,
   "metadata": {},
   "outputs": [],
   "source": [
    "def tokenizar_texto(texto):\n",
    "    tokens = word_tokenize(texto)\n",
    "    return tokens\n",
    "\n",
    "def tokenizar_lista(lista):\n",
    "    tokens_lista = []  # Crie uma lista para armazenar os tokens\n",
    "\n",
    "    for texto in lista:\n",
    "        tokens = tokenizar_texto(texto)\n",
    "        tokens_lista.append(tokens)  # Adicione os tokens à lista de tokens\n",
    "    \n",
    "    return tokens_lista\n"
   ]
  },
  {
   "cell_type": "markdown",
   "metadata": {},
   "source": [
    "tokenizando minhas listas já tratadas"
   ]
  },
  {
   "cell_type": "code",
   "execution_count": 20,
   "metadata": {},
   "outputs": [],
   "source": [
    "title_token = tokenizar_lista(title_limp)\n",
    "categ_token = tokenizar_lista(categ_limp)\n",
    "exc_token = tokenizar_lista(exc_limp)"
   ]
  },
  {
   "cell_type": "code",
   "execution_count": 22,
   "metadata": {},
   "outputs": [
    {
     "data": {
      "text/plain": [
       "['amazon',\n",
       " 'blames',\n",
       " 'inflation',\n",
       " 'as',\n",
       " 'it',\n",
       " 'increases',\n",
       " 'cost',\n",
       " 'of',\n",
       " 'prime',\n",
       " 'in',\n",
       " 'europe']"
      ]
     },
     "execution_count": 22,
     "metadata": {},
     "output_type": "execute_result"
    }
   ],
   "source": [
    "title_token[1]"
   ]
  },
  {
   "cell_type": "markdown",
   "metadata": {},
   "source": [
    "criando um novo dataset, com as colunas recebendo os dados tratados e tokenizados"
   ]
  },
  {
   "cell_type": "code",
   "execution_count": 23,
   "metadata": {},
   "outputs": [],
   "source": [
    "new_data = Dataset.from_dict({\"Title\": title_token, \"Excerpt\": train_data['Excerpt'], \"Category\": train_data['Category']})"
   ]
  },
  {
   "cell_type": "code",
   "execution_count": 24,
   "metadata": {},
   "outputs": [
    {
     "data": {
      "text/plain": [
       "Dataset({\n",
       "    features: ['Title', 'Excerpt', 'Category'],\n",
       "    num_rows: 4686\n",
       "})"
      ]
     },
     "execution_count": 24,
     "metadata": {},
     "output_type": "execute_result"
    }
   ],
   "source": [
    "new_data"
   ]
  },
  {
   "cell_type": "markdown",
   "metadata": {},
   "source": [
    "utilizando a parte da vetorização para que os dados possam ser usados como entrada para o modelo de classificação. "
   ]
  },
  {
   "cell_type": "code",
   "execution_count": 25,
   "metadata": {},
   "outputs": [],
   "source": [
    "vectorizer = TfidfVectorizer()\n",
    "\n",
    "X_train = vectorizer.fit_transform(new_data['Excerpt'])\n",
    "y_train = new_data['Category']\n",
    "X_test = vectorizer.transform(test_data['Excerpt'])\n",
    "y_test = test_data['Category']"
   ]
  },
  {
   "cell_type": "markdown",
   "metadata": {},
   "source": [
    "Importando o Classificador Naive Bayes para realizar o treinamento, e logo após calcular sua acurácia."
   ]
  },
  {
   "cell_type": "code",
   "execution_count": 26,
   "metadata": {},
   "outputs": [],
   "source": [
    "from sklearn.naive_bayes import MultinomialNB\n",
    "from sklearn.metrics import accuracy_score, classification_report"
   ]
  },
  {
   "cell_type": "code",
   "execution_count": 27,
   "metadata": {},
   "outputs": [
    {
     "name": "stdout",
     "output_type": "stream",
     "text": [
      "Acurácia do modelo nos dados de teste: 0.7657004830917874\n",
      "               precision    recall  f1-score   support\n",
      "\n",
      "     business       0.62      0.96      0.75       224\n",
      "entertainment       0.94      0.24      0.38        67\n",
      "       health       0.96      0.45      0.62        97\n",
      "     politics       0.86      0.88      0.87       190\n",
      "       sports       0.86      0.96      0.91       199\n",
      "         tech       0.00      0.00      0.00        51\n",
      "\n",
      "     accuracy                           0.77       828\n",
      "    macro avg       0.71      0.58      0.59       828\n",
      " weighted avg       0.76      0.77      0.72       828\n",
      "\n"
     ]
    },
    {
     "name": "stderr",
     "output_type": "stream",
     "text": [
      "c:\\Users\\PC\\AppData\\Local\\Programs\\Python\\Python311\\Lib\\site-packages\\sklearn\\metrics\\_classification.py:1469: UndefinedMetricWarning: Precision and F-score are ill-defined and being set to 0.0 in labels with no predicted samples. Use `zero_division` parameter to control this behavior.\n",
      "  _warn_prf(average, modifier, msg_start, len(result))\n",
      "c:\\Users\\PC\\AppData\\Local\\Programs\\Python\\Python311\\Lib\\site-packages\\sklearn\\metrics\\_classification.py:1469: UndefinedMetricWarning: Precision and F-score are ill-defined and being set to 0.0 in labels with no predicted samples. Use `zero_division` parameter to control this behavior.\n",
      "  _warn_prf(average, modifier, msg_start, len(result))\n",
      "c:\\Users\\PC\\AppData\\Local\\Programs\\Python\\Python311\\Lib\\site-packages\\sklearn\\metrics\\_classification.py:1469: UndefinedMetricWarning: Precision and F-score are ill-defined and being set to 0.0 in labels with no predicted samples. Use `zero_division` parameter to control this behavior.\n",
      "  _warn_prf(average, modifier, msg_start, len(result))\n"
     ]
    }
   ],
   "source": [
    "classif = MultinomialNB()\n",
    "classif.fit(X_train, y_train)  # Treinamento com os dados de treinamento\n",
    "\n",
    "# Faça previsões nos dados de teste\n",
    "y_pred = classif.predict(X_test)\n",
    "\n",
    "# Calcule a precisão do modelo nos dados de teste\n",
    "accuracy = accuracy_score(y_test, y_pred)\n",
    "print(f\"Acurácia do modelo nos dados de teste: {accuracy}\")\n",
    "\n",
    "# Exiba um relatório de classificação nos dados de teste\n",
    "print(classification_report(y_test, y_pred))"
   ]
  },
  {
   "cell_type": "markdown",
   "metadata": {},
   "source": [
    "A acurácia global do modelo nos dados de teste é de aproximadamente 76.57%.\n",
    "\n",
    "O modelo tem desempenho razoável nas categorias \"business\", \"politics\" e \"sports\", com boas métricas de precisão, recall e pontuação F1."
   ]
  }
 ],
 "metadata": {
  "kernelspec": {
   "display_name": "Python 3",
   "language": "python",
   "name": "python3"
  },
  "language_info": {
   "codemirror_mode": {
    "name": "ipython",
    "version": 3
   },
   "file_extension": ".py",
   "mimetype": "text/x-python",
   "name": "python",
   "nbconvert_exporter": "python",
   "pygments_lexer": "ipython3",
   "version": "3.11.4"
  }
 },
 "nbformat": 4,
 "nbformat_minor": 2
}
